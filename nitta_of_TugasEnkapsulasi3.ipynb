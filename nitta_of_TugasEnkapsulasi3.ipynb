{
  "nbformat": 4,
  "nbformat_minor": 0,
  "metadata": {
    "colab": {
      "provenance": [],
      "include_colab_link": true
    },
    "kernelspec": {
      "name": "python3",
      "display_name": "Python 3"
    },
    "language_info": {
      "name": "python"
    }
  },
  "cells": [
    {
      "cell_type": "markdown",
      "metadata": {
        "id": "view-in-github",
        "colab_type": "text"
      },
      "source": [
        "<a href=\"https://colab.research.google.com/github/vienetta1234/class-dan-object/blob/main/nitta_of_TugasEnkapsulasi3.ipynb\" target=\"_parent\"><img src=\"https://colab.research.google.com/assets/colab-badge.svg\" alt=\"Open In Colab\"/></a>"
      ]
    },
    {
      "cell_type": "markdown",
      "source": [
        "Buatlah kelas RekeningBank dengan atribut berikut:\n",
        "\n",
        "*   nama_pemilik (private)\n",
        "*   saldo (private)\n",
        "\n",
        "Berikan metode berikut:\n",
        "\n",
        "*   __init__: Menginisialisasi saldo dan nama_pemilik.\n",
        "*   set_saldo: Mengubah nilai saldo.\n",
        "*   get_saldo: Mengembalikan nilai saldo.\n",
        "*   set_nama_pemilik: Mengubah nama pemilik.\n",
        "*   get_nama_pemilik: Mengembalikan nama pemilik.\n",
        "\n",
        "\n",
        "\n",
        "\n",
        "\n",
        "\n",
        "\n",
        "\n"
      ],
      "metadata": {
        "id": "PktiI90eS6Ee"
      }
    },
    {
      "cell_type": "code",
      "source": [
        "# Desain class\n",
        "class RekeningBank:\n",
        "  def __init__(self, namapemilik, saldo):\n",
        "    self.__namapemilik = namapemilik\n",
        "    self.__saldo = saldo\n",
        "\n",
        "  def set_saldo(self, saldo):\n",
        "    self.__saldo = saldo\n",
        "\n",
        "  def get_saldo(self):\n",
        "    return self.__saldo\n",
        "\n",
        "  def set_namapemilik(self, namapemilik):\n",
        "    self.__namapemilik = namapemilik\n",
        "\n",
        "  def get_namapemilik(self):\n",
        "    return self.__namapemilik\n",
        "\n",
        "  def setor(self, jml_setor):\n",
        "    self.__saldo = self.__saldo + jml_setor\n",
        "    return self.__saldo\n",
        "\n",
        "  def tarik(self, jml_tarik):\n",
        "    if jml_tarik <= self.__saldo:\n",
        "      return self.__saldo - jml_tarik\n",
        "    else:\n",
        "      print(\"saldo anda kurang\")\n"
      ],
      "metadata": {
        "id": "Pyj-mkyciVfk"
      },
      "execution_count": 1,
      "outputs": []
    },
    {
      "cell_type": "code",
      "source": [
        "#Program utama untuk mendemonstrasikan class RekeningBank\n",
        "#yang menunjukkan penggunaan semua fungsi yang ada\n",
        "user1 = RekeningBank('nitta', 3000000)\n",
        "#menampilkan nama dan saldo yang telah diubah\n",
        "print(\"selamat datang\", user1.get_namapemilik())\n",
        "print(\"saldo anda:\", \"riyan\", user1.get_saldo())\n",
        "print(\"saldo anda:\", user1.setor(30000))\n",
        "print(\"Anda berhasil menarik sejumlah Rp,-\", user1.tarik(10000))\n",
        "user1.tarik(100000000000000000)"
      ],
      "metadata": {
        "id": "aOwy6rfdSga2",
        "colab": {
          "base_uri": "https://localhost:8080/"
        },
        "outputId": "4ef312ff-4c32-48f7-ba8d-cc3339242b53"
      },
      "execution_count": 3,
      "outputs": [
        {
          "output_type": "stream",
          "name": "stdout",
          "text": [
            "selamat datang nitta\n",
            "saldo anda: riyan 3000000\n",
            "saldo anda: 3030000\n",
            "Anda berhasil menarik sejumlah Rp,- 3020000\n",
            "saldo anda kurang\n"
          ]
        }
      ]
    }
  ]
}