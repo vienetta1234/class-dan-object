{
  "nbformat": 4,
  "nbformat_minor": 0,
  "metadata": {
    "colab": {
      "provenance": [],
      "include_colab_link": true
    },
    "kernelspec": {
      "name": "python3",
      "display_name": "Python 3"
    },
    "language_info": {
      "name": "python"
    }
  },
  "cells": [
    {
      "cell_type": "markdown",
      "metadata": {
        "id": "view-in-github",
        "colab_type": "text"
      },
      "source": [
        "<a href=\"https://colab.research.google.com/github/vienetta1234/class-dan-object/blob/main/TugasEnkapsulasi2.ipynb\" target=\"_parent\"><img src=\"https://colab.research.google.com/assets/colab-badge.svg\" alt=\"Open In Colab\"/></a>"
      ]
    },
    {
      "cell_type": "markdown",
      "source": [
        "Buatlah kelas RekeningBank dengan atribut berikut:\n",
        "\n",
        "*   nama_pemilik (private)\n",
        "*   saldo (private)\n",
        "\n",
        "Berikan metode berikut:\n",
        "\n",
        "*   __init__: Menginisialisasi saldo dan nama_pemilik.\n",
        "*   set_saldo: Mengubah nilai saldo.\n",
        "*   get_saldo: Mengembalikan nilai saldo.\n",
        "*   set_nama_pemilik: Mengubah nama pemilik.\n",
        "*   get_nama_pemilik: Mengembalikan nama pemilik.\n",
        "\n",
        "\n",
        "\n",
        "\n",
        "\n",
        "\n",
        "\n",
        "\n"
      ],
      "metadata": {
        "id": "PktiI90eS6Ee"
      }
    },
    {
      "cell_type": "code",
      "source": [
        "# Desain class\n",
        "class RekeningBank:\n",
        "  def __init__(self, nama, saldo, jumlah):\n",
        "    self.__nama = nama\n",
        "    self.__saldo = saldo\n",
        "    self.__jumlah = jumlah\n",
        "\n",
        "  def set_saldo(self, saldo):\n",
        "    self.__saldo = saldo\n",
        "\n",
        "  def get_saldo(self):\n",
        "    return self.__saldo\n",
        "\n",
        "  def set_nama(self, nama):\n",
        "    self.__nama = nama\n",
        "\n",
        "  def get_nama(self):\n",
        "    return self.__nama\n",
        "  def setor(self):\n",
        "    return self.__saldo + self.__jumlah\n",
        "\n",
        "  def tarik(self):\n",
        "    if self.__saldo < self.__jumlah:\n",
        "      return self.__saldo - self.__jumlah\n",
        "    else :\n",
        "      print('saldo kurang')\n"
      ],
      "metadata": {
        "id": "Pyj-mkyciVfk"
      },
      "execution_count": 1,
      "outputs": []
    },
    {
      "cell_type": "code",
      "source": [
        "pemilik= RekeningBank('nitta', 40000000, 6000000)\n",
        "\n",
        "print(f'Nama: {pemilik.get_nama()}')\n",
        "print(f'Saldo bertambah>> {pemilik.get_saldo()}')\n",
        "\n",
        "# Mengakses/menampilkan nama dan gaji setelah diubah\n",
        "pemilik.set_nama('ryan')\n",
        "print(f'Nama: {pemilik.get_nama()}')\n",
        "pemilik.set_saldo(6000000)\n",
        "print(f'saldo bertambah>> {pemilik.get_saldo()}')\n"
      ],
      "metadata": {
        "id": "aOwy6rfdSga2",
        "outputId": "f2a88c5f-5fa3-4c6d-f9a1-252bcd0c4b6d",
        "colab": {
          "base_uri": "https://localhost:8080/"
        }
      },
      "execution_count": 2,
      "outputs": [
        {
          "output_type": "stream",
          "name": "stdout",
          "text": [
            "Nama: nitta\n",
            "Saldo bertambah>> 40000000\n",
            "Nama: ryan\n",
            "saldo bertambah>> 6000000\n"
          ]
        }
      ]
    }
  ]
}