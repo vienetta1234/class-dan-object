{
  "nbformat": 4,
  "nbformat_minor": 0,
  "metadata": {
    "colab": {
      "provenance": [],
      "include_colab_link": true
    },
    "kernelspec": {
      "name": "python3",
      "display_name": "Python 3"
    },
    "language_info": {
      "name": "python"
    }
  },
  "cells": [
    {
      "cell_type": "markdown",
      "metadata": {
        "id": "view-in-github",
        "colab_type": "text"
      },
      "source": [
        "<a href=\"https://colab.research.google.com/github/vienetta1234/class-dan-object/blob/main/Copy_of_TugasEnkapsulasi1.ipynb\" target=\"_parent\"><img src=\"https://colab.research.google.com/assets/colab-badge.svg\" alt=\"Open In Colab\"/></a>"
      ]
    },
    {
      "cell_type": "code",
      "execution_count": 3,
      "metadata": {
        "id": "ihePdlIsSR5E"
      },
      "outputs": [],
      "source": [
        "# Desain class\n",
        "class RekeningBank:\n",
        "   def __init__(self, nama_pemilik, saldo):\n",
        "    self.__nama_pemilik = nama_pemilik\n",
        "    self.__saldo = saldo\n",
        "\n",
        "   def set_saldo(self, saldo):\n",
        "    self.__saldo = saldo\n",
        "\n",
        "   def get_saldo(self):\n",
        "    return self.__saldo\n",
        "\n",
        "   def set_nama_pemilik(self, nama_pemilik):\n",
        "    self.__nama_pemilik = nama_pemilik\n",
        "\n",
        "   def get_nama_pemilik(self):\n",
        "    return self.__nama_pemilik"
      ]
    },
    {
      "cell_type": "code",
      "source": [
        "#Program utama untuk mendemonstrasikan class RekeningBank\n",
        "#yang menunjukkan penggunaan semua fungsi yang ada\n",
        "user1 = RekeningBank('binbin', 2000000)\n",
        "\n",
        "#menampilkan nama pemilik rekenin beserta saldo\n",
        "print(\"selamat datang\", user1.get_nama_pemilik())\n",
        "print(\"saldo anda sekitar:\", \"Rp,-\", user1.get_saldo())\n",
        "\n",
        "print(\"\")\n",
        "#mengubah nama dan saldo\n",
        "user1.set_nama_pemilik('nitta')\n",
        "user1.set_saldo('50000000')\n",
        "\n",
        "#menampilkan nama dan saldo yang telah diubah\n",
        "print(\"selamat datang\", user1.get_nama_pemilik())\n",
        "print(\"saldo anda sekitar:\", \"Rp,-\",user1.get_saldo())\n",
        "\n"
      ],
      "metadata": {
        "id": "aOwy6rfdSga2",
        "colab": {
          "base_uri": "https://localhost:8080/"
        },
        "outputId": "e9ab6714-195c-4614-dfb2-f8ee47f4a5a3"
      },
      "execution_count": 5,
      "outputs": [
        {
          "output_type": "stream",
          "name": "stdout",
          "text": [
            "selamat datang binbin\n",
            "saldo anda sekitar: Rp,- 2000000\n",
            "\n",
            "selamat datang nitta\n",
            "saldo anda sekitar: Rp,- 50000000\n"
          ]
        }
      ]
    }
  ]
}